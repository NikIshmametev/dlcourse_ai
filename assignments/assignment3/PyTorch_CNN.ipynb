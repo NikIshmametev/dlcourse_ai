{
  "nbformat": 4,
  "nbformat_minor": 0,
  "metadata": {
    "accelerator": "GPU",
    "colab": {
      "name": "PyTorch_CNN.ipynb",
      "provenance": [],
      "collapsed_sections": []
    },
    "kernelspec": {
      "display_name": "Python 3",
      "language": "python",
      "name": "python3"
    },
    "language_info": {
      "codemirror_mode": {
        "name": "ipython",
        "version": 3
      },
      "file_extension": ".py",
      "mimetype": "text/x-python",
      "name": "python",
      "nbconvert_exporter": "python",
      "pygments_lexer": "ipython3",
      "version": "3.7.0"
    }
  },
  "cells": [
    {
      "cell_type": "markdown",
      "metadata": {
        "id": "8np8Cy3s5rnZ",
        "colab_type": "text"
      },
      "source": [
        "# Задание 3.2 - сверточные нейронные сети (CNNs) в PyTorch\n",
        "\n",
        "Это упражнение мы буде выполнять в Google Colab - https://colab.research.google.com/  \n",
        "Google Colab позволяет запускать код в notebook в облаке Google, где можно воспользоваться бесплатным GPU!  \n",
        "\n",
        "Авторы курса благодарят компанию Google и надеятся, что праздник не закончится.\n",
        "\n",
        "Туториал по настройке Google Colab:  \n",
        "https://medium.com/deep-learning-turkey/google-colab-free-gpu-tutorial-e113627b9f5d  \n",
        "(Keras инсталлировать не нужно, наш notebook сам установит PyTorch)\n"
      ]
    },
    {
      "cell_type": "code",
      "metadata": {
        "id": "O3Tcx6GwsgRc",
        "colab_type": "code",
        "colab": {
          "base_uri": "https://localhost:8080/",
          "height": 122
        },
        "outputId": "77ab4b87-253c-425a-8124-1a6d1b44f7d6"
      },
      "source": [
        "from google.colab import drive\n",
        "drive.mount('/content/drive/')"
      ],
      "execution_count": 1,
      "outputs": [
        {
          "output_type": "stream",
          "text": [
            "Go to this URL in a browser: https://accounts.google.com/o/oauth2/auth?client_id=947318989803-6bn6qk8qdgf4n4g3pfee6491hc0brc4i.apps.googleusercontent.com&redirect_uri=urn%3aietf%3awg%3aoauth%3a2.0%3aoob&scope=email%20https%3a%2f%2fwww.googleapis.com%2fauth%2fdocs.test%20https%3a%2f%2fwww.googleapis.com%2fauth%2fdrive%20https%3a%2f%2fwww.googleapis.com%2fauth%2fdrive.photos.readonly%20https%3a%2f%2fwww.googleapis.com%2fauth%2fpeopleapi.readonly&response_type=code\n",
            "\n",
            "Enter your authorization code:\n",
            "4/4AFYtIIK69AQAc3VTErKP5CiElyT3A0A1ARKHxxtBtRyaeyvBU4auts\n",
            "Mounted at /content/drive/\n"
          ],
          "name": "stdout"
        }
      ]
    },
    {
      "cell_type": "code",
      "metadata": {
        "id": "b4t5yFinvK8x",
        "colab_type": "code",
        "colab": {}
      },
      "source": [
        "import os\n",
        "os.chdir('./drive/My Drive/Code/dlcourse_ai/assignments/assignment3')"
      ],
      "execution_count": 2,
      "outputs": []
    },
    {
      "cell_type": "code",
      "metadata": {
        "id": "n7ilfL0uvPZS",
        "colab_type": "code",
        "colab": {
          "base_uri": "https://localhost:8080/",
          "height": 136
        },
        "outputId": "3ed849c6-33a0-4126-80bf-40c40fff832f"
      },
      "source": [
        "!ls"
      ],
      "execution_count": 3,
      "outputs": [
        {
          "output_type": "stream",
          "text": [
            "CNN.ipynb\t   model.py\t\t      run_record_lr_1e-2.pickle\n",
            "data.json\t   optim.py\t\t      run_record_nn1.pickle\n",
            "dataset.py\t   PyTorch_CNN.ipynb\t      run_record_nn2.pickle\n",
            "download_data.sh   README.md\t\t      test_32x32.mat\n",
            "gradient_check.py  requirements.txt\t      train_32x32.mat\n",
            "layers.py\t   run_record_lr_1e0.pickle   trainer.py\n",
            "metrics.py\t   run_record_lr_1e-1.pickle  Untitled0.ipynb\n"
          ],
          "name": "stdout"
        }
      ]
    },
    {
      "cell_type": "code",
      "metadata": {
        "colab_type": "code",
        "id": "FcXBeP1O7cnY",
        "colab": {
          "base_uri": "https://localhost:8080/",
          "height": 323
        },
        "outputId": "3d2c673c-53dc-4d8f-998b-144a3c08c240"
      },
      "source": [
        "# Intstall PyTorch and download data\n",
        "!pip3 install torch torchvision\n",
        "\n",
        "!wget -c http://ufldl.stanford.edu/housenumbers/train_32x32.mat http://ufldl.stanford.edu/housenumbers/test_32x32.mat"
      ],
      "execution_count": 4,
      "outputs": [
        {
          "output_type": "stream",
          "text": [
            "Requirement already satisfied: torch in /usr/local/lib/python3.6/dist-packages (1.6.0+cu101)\n",
            "Requirement already satisfied: torchvision in /usr/local/lib/python3.6/dist-packages (0.7.0+cu101)\n",
            "Requirement already satisfied: future in /usr/local/lib/python3.6/dist-packages (from torch) (0.16.0)\n",
            "Requirement already satisfied: numpy in /usr/local/lib/python3.6/dist-packages (from torch) (1.18.5)\n",
            "Requirement already satisfied: pillow>=4.1.1 in /usr/local/lib/python3.6/dist-packages (from torchvision) (7.0.0)\n",
            "--2020-09-09 10:38:34--  http://ufldl.stanford.edu/housenumbers/train_32x32.mat\n",
            "Resolving ufldl.stanford.edu (ufldl.stanford.edu)... 171.64.68.10\n",
            "Connecting to ufldl.stanford.edu (ufldl.stanford.edu)|171.64.68.10|:80... connected.\n",
            "HTTP request sent, awaiting response... 416 Requested Range Not Satisfiable\n",
            "\n",
            "    The file is already fully retrieved; nothing to do.\n",
            "\n",
            "--2020-09-09 10:38:34--  http://ufldl.stanford.edu/housenumbers/test_32x32.mat\n",
            "Reusing existing connection to ufldl.stanford.edu:80.\n",
            "HTTP request sent, awaiting response... 416 Requested Range Not Satisfiable\n",
            "\n",
            "    The file is already fully retrieved; nothing to do.\n",
            "\n"
          ],
          "name": "stdout"
        }
      ]
    },
    {
      "cell_type": "code",
      "metadata": {
        "colab_type": "code",
        "id": "-afwWw-Q85vD",
        "colab": {}
      },
      "source": [
        "from collections import namedtuple\n",
        "\n",
        "import matplotlib.pyplot as plt\n",
        "import numpy as np\n",
        "import pickle\n",
        "import PIL\n",
        "import torch\n",
        "import torch.nn as nn\n",
        "import torch.optim as optim\n",
        "import torchvision.datasets as dset\n",
        "from torch.utils.data.sampler import SubsetRandomSampler\n",
        "\n",
        "from torchvision import transforms"
      ],
      "execution_count": 5,
      "outputs": []
    },
    {
      "cell_type": "code",
      "metadata": {
        "colab_type": "code",
        "id": "NNU-OD9O9ltP",
        "colab": {}
      },
      "source": [
        "device = torch.device(\"cuda:0\") # Let's make sure GPU is available!"
      ],
      "execution_count": 6,
      "outputs": []
    },
    {
      "cell_type": "markdown",
      "metadata": {
        "id": "vLiypCMC5rnp",
        "colab_type": "text"
      },
      "source": [
        "# Загружаем данные"
      ]
    },
    {
      "cell_type": "code",
      "metadata": {
        "colab_type": "code",
        "id": "YAvkoRx-9FsP",
        "colab": {}
      },
      "source": [
        "# First, lets load the dataset\n",
        "data_train = dset.SVHN('./', \n",
        "                       transform=transforms.Compose([\n",
        "                           transforms.ToTensor(),\n",
        "                           transforms.Normalize(mean=[0.43,0.44,0.47],\n",
        "                                               std=[0.20,0.20,0.20])                           \n",
        "                       ])\n",
        "                      )\n",
        "data_test = dset.SVHN('./', split='test', transform=transforms.Compose([\n",
        "                           transforms.ToTensor(),\n",
        "                           transforms.Normalize(mean=[0.43,0.44,0.47],\n",
        "                                               std=[0.20,0.20,0.20])                           \n",
        "                       ]))"
      ],
      "execution_count": 7,
      "outputs": []
    },
    {
      "cell_type": "markdown",
      "metadata": {
        "id": "DAOQ0cNt5rnu",
        "colab_type": "text"
      },
      "source": [
        "Разделяем данные на training и validation.\n",
        "\n",
        "На всякий случай для подробностей - https://pytorch.org/tutorials/beginner/data_loading_tutorial.html"
      ]
    },
    {
      "cell_type": "code",
      "metadata": {
        "colab_type": "code",
        "id": "YRnr8CPg7Hli",
        "colab": {}
      },
      "source": [
        "batch_size = 64\n",
        "\n",
        "data_size = data_train.data.shape[0]\n",
        "validation_split = .2\n",
        "split = int(np.floor(validation_split * data_size))\n",
        "indices = list(range(data_size))\n",
        "np.random.shuffle(indices)\n",
        "\n",
        "train_indices, val_indices = indices[split:], indices[:split]\n",
        "\n",
        "train_sampler = SubsetRandomSampler(train_indices)\n",
        "val_sampler = SubsetRandomSampler(val_indices)\n",
        "\n",
        "train_loader = torch.utils.data.DataLoader(data_train, batch_size=batch_size, \n",
        "                                           sampler=train_sampler)\n",
        "val_loader = torch.utils.data.DataLoader(data_train, batch_size=batch_size,\n",
        "                                         sampler=val_sampler)"
      ],
      "execution_count": 8,
      "outputs": []
    },
    {
      "cell_type": "code",
      "metadata": {
        "colab_type": "code",
        "id": "LyYvt-T67PBG",
        "colab": {}
      },
      "source": [
        "# We'll use a special helper module to shape it into a flat tensor\n",
        "class Flattener(nn.Module):\n",
        "    def forward(self, x):\n",
        "        batch_size, *_ = x.shape\n",
        "        return x.view(batch_size, -1)"
      ],
      "execution_count": 9,
      "outputs": []
    },
    {
      "cell_type": "markdown",
      "metadata": {
        "id": "inkuywCn5rn3",
        "colab_type": "text"
      },
      "source": [
        "Создадим простейшую сеть с новыми слоями:  \n",
        "Convolutional - `nn.Conv2d`  \n",
        "MaxPool - `nn.MaxPool2d`"
      ]
    },
    {
      "cell_type": "code",
      "metadata": {
        "colab_type": "code",
        "id": "w9SFVGZP7SQd",
        "colab": {}
      },
      "source": [
        "nn_model = nn.Sequential(\n",
        "            nn.Conv2d(3, 64, 3, padding=1),\n",
        "            nn.ReLU(inplace=True),\n",
        "            nn.MaxPool2d(4),\n",
        "            nn.Conv2d(64, 64, 3, padding=1),\n",
        "            nn.ReLU(inplace=True),\n",
        "            nn.MaxPool2d(4),    \n",
        "            Flattener(),\n",
        "            nn.Linear(64*2*2, 10),\n",
        "          )\n",
        "\n",
        "nn_model.type(torch.cuda.FloatTensor)\n",
        "nn_model.to(device)\n",
        "\n",
        "loss = nn.CrossEntropyLoss().type(torch.cuda.FloatTensor)\n",
        "optimizer = optim.SGD(nn_model.parameters(), lr=1e-1, weight_decay=1e-4)"
      ],
      "execution_count": 10,
      "outputs": []
    },
    {
      "cell_type": "markdown",
      "metadata": {
        "id": "-TjmXS365rn8",
        "colab_type": "text"
      },
      "source": [
        "Восстановите функцию `compute_accuracy` из прошлого задания.  \n",
        "Единственное отличие в новом - она должна передать данные на GPU прежде чем прогонять через модель. Сделайте это так же, как это делает функция `train_model`"
      ]
    },
    {
      "cell_type": "code",
      "metadata": {
        "colab_type": "code",
        "id": "2ek3KVQK7hJ6",
        "colab": {}
      },
      "source": [
        "def train_model(model, train_loader, val_loader, loss, optimizer, num_epochs, scheduler=None, scheduler_epoch=None, \n",
        "                silent=False):    \n",
        "    loss_history = []\n",
        "    train_history = []\n",
        "    val_history = []\n",
        "    for epoch in range(num_epochs):\n",
        "        model.train() # Enter train mode\n",
        "        \n",
        "        loss_accum = 0\n",
        "        correct_samples = 0\n",
        "        total_samples = 0\n",
        "        for i_step, (x, y) in enumerate(train_loader):\n",
        "          \n",
        "            x_gpu = x.to(device)\n",
        "            y_gpu = y.to(device)\n",
        "            prediction = model(x_gpu)    \n",
        "            loss_value = loss(prediction, y_gpu)\n",
        "            optimizer.zero_grad()\n",
        "            loss_value.backward()\n",
        "            optimizer.step()\n",
        "            \n",
        "            _, indices = torch.max(prediction, 1)\n",
        "            correct_samples += torch.sum(indices == y_gpu)\n",
        "            total_samples += y.shape[0]\n",
        "            \n",
        "            loss_accum += loss_value\n",
        "        \n",
        "        if scheduler is not None:\n",
        "          if epoch != 0 and scheduler_epoch % epoch == 0:\n",
        "            scheduler.step()\n",
        "\n",
        "        ave_loss = loss_accum / i_step\n",
        "        train_accuracy = float(correct_samples) / total_samples\n",
        "        val_accuracy = compute_accuracy(model, val_loader)\n",
        "        \n",
        "        loss_history.append(float(ave_loss))\n",
        "        train_history.append(train_accuracy)\n",
        "        val_history.append(val_accuracy)\n",
        "        if not silent:\n",
        "          print(\"Average loss: %f, Train accuracy: %f, Val accuracy: %f\" % (ave_loss, train_accuracy, val_accuracy))\n",
        "    if silent:\n",
        "      print(\"Average loss: %f, Train accuracy: %f, Val accuracy: %f\" % (ave_loss, train_accuracy, val_accuracy))\n",
        "    return loss_history, train_history, val_history\n",
        "        \n",
        "def compute_accuracy(model, loader):\n",
        "    \"\"\"\n",
        "    Computes accuracy on the dataset wrapped in a loader\n",
        "    \n",
        "    Returns: accuracy as a float value between 0 and 1\n",
        "    \"\"\"\n",
        "    model.eval() # Evaluation mode\n",
        "    # TODO: Copy implementation from previous assignment\n",
        "    # Don't forget to move the data to device before running it through the model!\n",
        "    correct_samples, total_samples = 0, 0\n",
        "    for i_step, (x, y) in enumerate(loader):\n",
        "        x_gpu = x.to(device)\n",
        "        y_gpu = y.to(device)\n",
        "        prediction = model(x_gpu)\n",
        "        \n",
        "        _, indices = torch.max(prediction, 1)\n",
        "        correct_samples += torch.sum(indices == y_gpu)\n",
        "        total_samples += y.shape[0]\n",
        "    return correct_samples.item()/total_samples"
      ],
      "execution_count": 11,
      "outputs": []
    },
    {
      "cell_type": "code",
      "metadata": {
        "id": "r7sBvAmlp7lg",
        "colab_type": "code",
        "colab": {
          "base_uri": "https://localhost:8080/",
          "height": 102
        },
        "outputId": "1adee48d-0dac-4eaf-c12d-115de07547aa"
      },
      "source": [
        "loss_history, train_history, val_history = train_model(nn_model, train_loader, val_loader, loss, optimizer, 5)"
      ],
      "execution_count": 21,
      "outputs": [
        {
          "output_type": "stream",
          "text": [
            "Average loss: 1.377189, Train accuracy: 0.543682, Val accuracy: 0.758993\n",
            "Average loss: 0.707525, Train accuracy: 0.782684, Val accuracy: 0.802198\n",
            "Average loss: 0.604888, Train accuracy: 0.820035, Val accuracy: 0.801720\n",
            "Average loss: 0.552691, Train accuracy: 0.835085, Val accuracy: 0.843424\n",
            "Average loss: 0.520937, Train accuracy: 0.844436, Val accuracy: 0.850522\n"
          ],
          "name": "stdout"
        }
      ]
    },
    {
      "cell_type": "markdown",
      "metadata": {
        "colab_type": "text",
        "id": "6a-3a1ZFGEw_"
      },
      "source": [
        "# Аугментация данных (Data augmentation)\n",
        "\n",
        "В работе с изображениями одним из особенно важных методов является аугментация данных - то есть, генерация дополнительных данных для тренировки на основе изначальных.   \n",
        "Таким образом, мы получаем возможность \"увеличить\" набор данных для тренировки, что ведет к лучшей работе сети.\n",
        "Важно, чтобы аугментированные данные были похожи на те, которые могут встретиться в реальной жизни, иначе польза от аугментаций уменьшается и может ухудшить работу сети.\n",
        "\n",
        "С PyTorch идут несколько таких алгоритмов, называемых `transforms`. Более подробно про них можно прочитать тут -\n",
        "https://pytorch.org/tutorials/beginner/data_loading_tutorial.html#transforms\n",
        "\n",
        "Ниже мы используем следующие алгоритмы генерации:\n",
        "- ColorJitter - случайное изменение цвета\n",
        "- RandomHorizontalFlip - горизонтальное отражение с вероятностью 50%\n",
        "- RandomVerticalFlip - вертикальное отражение с вероятностью 50%\n",
        "- RandomRotation - случайный поворот"
      ]
    },
    {
      "cell_type": "code",
      "metadata": {
        "colab_type": "code",
        "id": "jCWMUWmr7t5g",
        "colab": {}
      },
      "source": [
        "tfs = transforms.Compose([\n",
        "    transforms.ColorJitter(hue=.50, saturation=.50),\n",
        "    transforms.RandomHorizontalFlip(),\n",
        "    transforms.RandomVerticalFlip(),\n",
        "    transforms.RandomRotation(50, resample=PIL.Image.BILINEAR),\n",
        "    transforms.ToTensor(),\n",
        "    transforms.Normalize(mean=[0.43,0.44,0.47],\n",
        "                       std=[0.20,0.20,0.20])                           \n",
        "])\n",
        "\n",
        "# Create augmented train dataset\n",
        "data_aug_train = dset.SVHN('./', \n",
        "                       transform=tfs\n",
        "                      )\n",
        "\n",
        "train_aug_loader = torch.utils.data.DataLoader(data_aug_train, batch_size=batch_size, \n",
        "                                           sampler=train_sampler)"
      ],
      "execution_count": 12,
      "outputs": []
    },
    {
      "cell_type": "markdown",
      "metadata": {
        "id": "RsxC_jWR5roF",
        "colab_type": "text"
      },
      "source": [
        "Визуализируем результаты агментации (вообще, смотреть на сгенерированные данные всегда очень полезно)."
      ]
    },
    {
      "cell_type": "code",
      "metadata": {
        "colab_type": "code",
        "id": "YlJJEro1KZ45",
        "colab": {
          "base_uri": "https://localhost:8080/",
          "height": 117
        },
        "outputId": "fdf9b24a-7963-454d-c74f-6fcbe2768d31"
      },
      "source": [
        "# TODO: Visualize some augmented images!\n",
        "# hint: you can create new datasets and loaders to accomplish this\n",
        "\n",
        "# Based on the visualizations, should we keep all the augmentations?\n",
        "\n",
        "tfs = transforms.Compose([\n",
        "    transforms.ColorJitter(hue=.20, saturation=.20),\n",
        "    #transforms.RandomHorizontalFlip(),\n",
        "    #transforms.RandomVerticalFlip(),\n",
        "    transforms.RandomRotation(10, resample=PIL.Image.BILINEAR),\n",
        "])\n",
        "\n",
        "data_aug_vis = dset.SVHN('./', \n",
        "                       transform=tfs\n",
        "                      )\n",
        "\n",
        "plt.figure(figsize=(30, 3))\n",
        "\n",
        "for i, (x, y) in enumerate(data_aug_vis):\n",
        "    if i == 10:\n",
        "        break\n",
        "    plt.subplot(1, 10, i+1)\n",
        "    plt.grid(False)\n",
        "    plt.imshow(x)\n",
        "    plt.axis('off')"
      ],
      "execution_count": 13,
      "outputs": [
        {
          "output_type": "display_data",
          "data": {
            "image/png": "[encoded data removed]",
            "text/plain": [
              "<Figure size 2160x216 with 10 Axes>"
            ]
          },
          "metadata": {
            "tags": [],
            "needs_background": "light"
          }
        }
      ]
    },
    {
      "cell_type": "markdown",
      "metadata": {
        "colab_type": "text",
        "id": "o2LrmsYHoguB"
      },
      "source": [
        "Все ли агментации одинаково полезны на этом наборе данных? Могут ли быть среди них те, которые собьют модель с толку?\n",
        "\n",
        "Выберите из них только корректные"
      ]
    },
    {
      "cell_type": "code",
      "metadata": {
        "colab_type": "code",
        "id": "evro9ksXGs9u",
        "colab": {}
      },
      "source": [
        "# TODO: \n",
        "tfs = transforms.Compose([\n",
        "    # TODO: Add good augmentations\n",
        "    transforms.ColorJitter(hue=.20, saturation=.20),\n",
        "    transforms.RandomRotation(10, resample=PIL.Image.BILINEAR),\n",
        "    transforms.ToTensor(),\n",
        "    transforms.Normalize(mean=[0.43,0.44,0.47],\n",
        "                       std=[0.20,0.20,0.20])                           \n",
        "])\n",
        "\n",
        "# TODO create new instances of loaders with the augmentations you chose\n",
        "data_aug_train = dset.SVHN('./', transform=tfs)\n",
        "\n",
        "train_aug_loader = torch.utils.data.DataLoader(data_aug_train, batch_size=batch_size, \n",
        "                                           sampler=train_sampler)"
      ],
      "execution_count": 14,
      "outputs": []
    },
    {
      "cell_type": "code",
      "metadata": {
        "colab_type": "code",
        "id": "PeO6Zw0DHqPR",
        "colab": {
          "base_uri": "https://localhost:8080/",
          "height": 102
        },
        "outputId": "d5913b72-c706-4771-b632-fcc477da6a28"
      },
      "source": [
        "# Finally, let's train with augmentations!\n",
        "\n",
        "# Note we shouldn't use augmentations on validation\n",
        "\n",
        "loss_history, train_history, val_history = train_model(nn_model, train_aug_loader, val_loader, loss, optimizer, 5)"
      ],
      "execution_count": 26,
      "outputs": [
        {
          "output_type": "stream",
          "text": [
            "Average loss: 0.615388, Train accuracy: 0.814609, Val accuracy: 0.826428\n",
            "Average loss: 0.561433, Train accuracy: 0.829471, Val accuracy: 0.852911\n",
            "Average loss: 0.532193, Train accuracy: 0.838856, Val accuracy: 0.853457\n",
            "Average loss: 0.520915, Train accuracy: 0.842781, Val accuracy: 0.840284\n",
            "Average loss: 0.504299, Train accuracy: 0.846227, Val accuracy: 0.853798\n"
          ],
          "name": "stdout"
        }
      ]
    },
    {
      "cell_type": "markdown",
      "metadata": {
        "colab_type": "text",
        "id": "r0bcioK6JBDK"
      },
      "source": [
        "# LeNet\n",
        "Попробуем имплементировать классическую архитектуру сверточной нейронной сети, предложенную Яном ЛеКуном в 1998 году. В свое время она достигла впечатляющих результатов на MNIST, посмотрим как она справится с SVHN?\n",
        "Она описана в статье [\"Gradient Based Learning Applied to Document Recognition\"](http://yann.lecun.com/exdb/publis/pdf/lecun-01a.pdf), попробуйте прочитать ключевые части и имплементировать предложенную архитетуру на PyTorch.\n",
        "\n",
        "Реализовывать слои и функцию ошибки LeNet, которых нет в PyTorch, **не нужно** - просто возьмите их размеры и переведите в уже известные нам Convolutional, Pooling и Fully Connected layers.\n",
        "\n",
        "Если в статье не очень понятно, можно просто погуглить LeNet и разобраться в деталях :)"
      ]
    },
    {
      "cell_type": "code",
      "metadata": {
        "colab_type": "code",
        "id": "ieEzZUglJAUB",
        "colab": {}
      },
      "source": [
        "# TODO: Implement LeNet-like architecture for SVHN task\n",
        "lenet_model = nn.Sequential(\n",
        "            nn.Conv2d(3, 6, 5),\n",
        "            nn.Tanh(),\n",
        "            nn.AvgPool2d(2),\n",
        "            nn.Conv2d(6, 16, 5),\n",
        "            nn.Tanh(),\n",
        "            nn.AvgPool2d(2),\n",
        "            nn.Conv2d(16, 120, 5),\n",
        "            nn.Tanh(),\n",
        "            Flattener(),\n",
        "            nn.Linear(120, 84),        \n",
        "            nn.Tanh(),\n",
        "            nn.Linear(84, 10),\n",
        "          )\n",
        "\n",
        "lenet_model.type(torch.cuda.FloatTensor)\n",
        "lenet_model.to(device)\n",
        "\n",
        "loss = nn.CrossEntropyLoss().type(torch.cuda.FloatTensor)\n",
        "optimizer = optim.SGD(lenet_model.parameters(), lr=1e-1, weight_decay=1e-4)"
      ],
      "execution_count": 15,
      "outputs": []
    },
    {
      "cell_type": "code",
      "metadata": {
        "colab_type": "code",
        "id": "WMmaPfdeKk9H",
        "colab": {
          "base_uri": "https://localhost:8080/",
          "height": 187
        },
        "outputId": "744e62c6-4c4e-4641-9364-f49124def81a"
      },
      "source": [
        "# Let's train it!\n",
        "loss_history, train_history, val_history = train_model(lenet_model, train_aug_loader, val_loader, loss, optimizer, 10)"
      ],
      "execution_count": 19,
      "outputs": [
        {
          "output_type": "stream",
          "text": [
            "Average loss: 2.133554, Train accuracy: 0.246425, Val accuracy: 0.519965\n",
            "Average loss: 0.926466, Train accuracy: 0.706242, Val accuracy: 0.800218\n",
            "Average loss: 0.588771, Train accuracy: 0.816435, Val accuracy: 0.818511\n",
            "Average loss: 0.502518, Train accuracy: 0.843224, Val accuracy: 0.859805\n",
            "Average loss: 0.451168, Train accuracy: 0.860816, Val accuracy: 0.868746\n",
            "Average loss: 0.417961, Train accuracy: 0.870474, Val accuracy: 0.878643\n",
            "Average loss: 0.395125, Train accuracy: 0.878238, Val accuracy: 0.882534\n",
            "Average loss: 0.376146, Train accuracy: 0.884227, Val accuracy: 0.885332\n",
            "Average loss: 0.361223, Train accuracy: 0.888441, Val accuracy: 0.888404\n",
            "Average loss: 0.347559, Train accuracy: 0.892417, Val accuracy: 0.886288\n"
          ],
          "name": "stdout"
        }
      ]
    },
    {
      "cell_type": "markdown",
      "metadata": {
        "colab_type": "text",
        "id": "u_O9qiYySvuj"
      },
      "source": [
        "# Подбор гиперпараметров"
      ]
    },
    {
      "cell_type": "code",
      "metadata": {
        "colab_type": "code",
        "id": "i6mhfdQ9K-N3",
        "colab": {
          "base_uri": "https://localhost:8080/",
          "height": 765
        },
        "outputId": "4a66efbc-7f27-4594-bbf0-6296f9019ddb"
      },
      "source": [
        "# The key hyperparameters we're going to tune are learning speed, annealing rate and regularization\n",
        "# We also encourage you to try different optimizers as well\n",
        "\n",
        "Hyperparams = namedtuple(\"Hyperparams\", ['learning_rate', 'reg', 'optim_name', 'scheduler_name', 'anneal_epoch'])\n",
        "RunResult = namedtuple(\"RunResult\", ['model', 'train_history', 'val_history', 'final_val_accuracy'])\n",
        "\n",
        "learning_rates = [1e-3, 1e-4]\n",
        "anneal_coeff = 0.2\n",
        "anneal_epochs = [1., 2., 5.]\n",
        "regs = [1e-3, 1e-4, 1e-5, 1e-7]\n",
        "\n",
        "batch_size = 64\n",
        "epoch_num = 10\n",
        "\n",
        "lmbda = lambda epoch: anneal_coeff\n",
        "# Record all the runs here\n",
        "# Key should be Hyperparams and values should be RunResult\n",
        "run_record = {} \n",
        "\n",
        "# Use grid search or random search and record all runs in run_record dictionnary \n",
        "# Important: perform search in logarithmic space!\n",
        "for lr in learning_rates:\n",
        "  for reg in regs:\n",
        "    for optim_name in ['SGD', 'RMSprop']:\n",
        "      for scheduler_name in ['None', 'Multiplicative']:\n",
        "        for anneal_epoch in anneal_epochs:\n",
        "          lenet_model = nn.Sequential(\n",
        "            nn.Conv2d(3, 6, 5), nn.Tanh(),\n",
        "            nn.AvgPool2d(2),\n",
        "            nn.Conv2d(6, 16, 5), nn.Tanh(),\n",
        "            nn.AvgPool2d(2),\n",
        "            nn.Conv2d(16, 120, 5), nn.Tanh(),\n",
        "            Flattener(),\n",
        "            nn.Linear(120, 84), nn.Tanh(),\n",
        "            nn.Linear(84, 10),\n",
        "          )\n",
        "          optimizers = {\n",
        "              'SGD': optim.SGD(lenet_model.parameters(), lr=lr, weight_decay=reg),\n",
        "              'RMSprop': optim.RMSprop(lenet_model.parameters(), lr=lr, weight_decay=reg, momentum=0.9)\n",
        "              }\n",
        "          optimizer = optimizers[optim_name]  \n",
        "          schedulers = {\n",
        "              'None': None,\n",
        "              'Multiplicative': optim.lr_scheduler.MultiplicativeLR(optimizer, lr_lambda=lmbda)\n",
        "            }\n",
        "          scheduler = schedulers[scheduler_name]\n",
        "          if scheduler is None:\n",
        "            anneal_epoch = None\n",
        "          lenet_model.cuda()\n",
        "          loss_history, train_history, val_history = train_model(lenet_model, train_aug_loader, val_loader, loss,\n",
        "                                                                 optimizer, 10, scheduler, anneal_epoch, silent=True)\n",
        "          key = Hyperparams(lr, reg, optim_name, scheduler_name, anneal_epoch)\n",
        "          value = RunResult(lenet_model, train_history, val_history, val_history[-1])\n",
        "          run_record[key] = value\n",
        "          with open('run_record_1.pickle', 'wb') as handle:\n",
        "            pickle.dump(run_record, handle, protocol=pickle.HIGHEST_PROTOCOL)"
      ],
      "execution_count": null,
      "outputs": [
        {
          "output_type": "stream",
          "text": [
            "Average loss: 2.236237, Train accuracy: 0.189025, Val accuracy: 0.189953\n",
            "Average loss: 2.236558, Train accuracy: 0.189025, Val accuracy: 0.189953\n",
            "Average loss: 2.237109, Train accuracy: 0.189025, Val accuracy: 0.189953\n",
            "Average loss: 2.251579, Train accuracy: 0.189008, Val accuracy: 0.189885\n",
            "Average loss: 2.258566, Train accuracy: 0.189025, Val accuracy: 0.189953\n",
            "Average loss: 2.258819, Train accuracy: 0.189008, Val accuracy: 0.190021\n",
            "Average loss: 2.285975, Train accuracy: 0.169164, Val accuracy: 0.152140\n",
            "Average loss: 0.811056, Train accuracy: 0.750606, Val accuracy: 0.786772\n",
            "Average loss: 0.826401, Train accuracy: 0.743388, Val accuracy: 0.766569\n",
            "Average loss: 0.437505, Train accuracy: 0.865031, Val accuracy: 0.875162\n",
            "Average loss: 0.398309, Train accuracy: 0.879995, Val accuracy: 0.881032\n",
            "Average loss: 0.348760, Train accuracy: 0.896325, Val accuracy: 0.898573\n",
            "Average loss: 2.237727, Train accuracy: 0.189025, Val accuracy: 0.189953\n",
            "Average loss: 2.236838, Train accuracy: 0.189025, Val accuracy: 0.189953\n",
            "Average loss: 2.238127, Train accuracy: 0.189025, Val accuracy: 0.189953\n",
            "Average loss: 2.252119, Train accuracy: 0.189025, Val accuracy: 0.189953\n",
            "Average loss: 2.272846, Train accuracy: 0.183616, Val accuracy: 0.183469\n",
            "Average loss: 2.256407, Train accuracy: 0.189042, Val accuracy: 0.189953\n",
            "Average loss: 0.894862, Train accuracy: 0.725608, Val accuracy: 0.740427\n",
            "Average loss: 0.887668, Train accuracy: 0.728151, Val accuracy: 0.763293\n",
            "Average loss: 0.884166, Train accuracy: 0.728509, Val accuracy: 0.750119\n",
            "Average loss: 0.429730, Train accuracy: 0.867744, Val accuracy: 0.870316\n",
            "Average loss: 0.682321, Train accuracy: 0.788571, Val accuracy: 0.793461\n",
            "Average loss: 0.450752, Train accuracy: 0.863120, Val accuracy: 0.858713\n",
            "Average loss: 2.238146, Train accuracy: 0.189025, Val accuracy: 0.189953\n",
            "Average loss: 2.236162, Train accuracy: 0.189025, Val accuracy: 0.189953\n",
            "Average loss: 2.236571, Train accuracy: 0.189025, Val accuracy: 0.189953\n",
            "Average loss: 2.251999, Train accuracy: 0.183480, Val accuracy: 0.185585\n",
            "Average loss: 2.254807, Train accuracy: 0.189008, Val accuracy: 0.189953\n",
            "Average loss: 2.248682, Train accuracy: 0.189025, Val accuracy: 0.189953\n",
            "Average loss: 0.994565, Train accuracy: 0.689435, Val accuracy: 0.733192\n",
            "Average loss: 0.965671, Train accuracy: 0.701669, Val accuracy: 0.725206\n",
            "Average loss: 1.008545, Train accuracy: 0.688513, Val accuracy: 0.718040\n",
            "Average loss: 1.030913, Train accuracy: 0.678941, Val accuracy: 0.712989\n",
            "Average loss: 1.026109, Train accuracy: 0.672679, Val accuracy: 0.688895\n",
            "Average loss: 1.329035, Train accuracy: 0.572859, Val accuracy: 0.594089\n",
            "Average loss: 2.237231, Train accuracy: 0.189025, Val accuracy: 0.189953\n",
            "Average loss: 2.236550, Train accuracy: 0.189025, Val accuracy: 0.189953\n",
            "Average loss: 2.236074, Train accuracy: 0.189025, Val accuracy: 0.189953\n",
            "Average loss: 2.252082, Train accuracy: 0.188991, Val accuracy: 0.189953\n",
            "Average loss: 2.260906, Train accuracy: 0.189025, Val accuracy: 0.189953\n",
            "Average loss: 2.253927, Train accuracy: 0.189025, Val accuracy: 0.189953\n",
            "Average loss: 1.054861, Train accuracy: 0.673395, Val accuracy: 0.690943\n",
            "Average loss: 1.179101, Train accuracy: 0.634031, Val accuracy: 0.674357\n"
          ],
          "name": "stdout"
        }
      ]
    },
    {
      "cell_type": "code",
      "metadata": {
        "id": "2DLqdUcpDCMA",
        "colab_type": "code",
        "colab": {}
      },
      "source": [
        "# Colab failed to run the loop from above at once\n",
        "# Saves results to disk and concat it now\n",
        "Hyperparams = namedtuple(\"Hyperparams\", ['learning_rate', 'reg', 'optim_name', 'scheduler_name', 'anneal_epoch'])\n",
        "RunResult = namedtuple(\"RunResult\", ['model', 'train_history', 'val_history', 'final_val_accuracy'])\n",
        "\n",
        "run_record = {}\n",
        "for name in ['run_record_lr_1e0', 'run_record_lr_1e-1', 'run_record_lr_1e-2']:\n",
        "  with open('%s.pickle' % name, 'rb') as f:\n",
        "    if not len(run_record):\n",
        "      run_record = pickle.load(f)\n",
        "    else:\n",
        "      run_record.update(pickle.load(f))"
      ],
      "execution_count": 20,
      "outputs": []
    },
    {
      "cell_type": "code",
      "metadata": {
        "colab_type": "code",
        "id": "Y6xExdw8JB1l",
        "colab": {
          "base_uri": "https://localhost:8080/",
          "height": 54
        },
        "outputId": "3f2dccb2-ae83-4d04-b489-122eb029438d"
      },
      "source": [
        "best_val_accuracy = None\n",
        "best_hyperparams = None\n",
        "best_run = None\n",
        "\n",
        "for hyperparams, run_result in run_record.items():\n",
        "    if best_val_accuracy is None or best_val_accuracy < run_result.final_val_accuracy:\n",
        "        best_val_accuracy = run_result.final_val_accuracy\n",
        "        best_hyperparams = hyperparams\n",
        "        best_run = run_result\n",
        "        \n",
        "print(\"Best validation accuracy: %4.2f, best hyperparams: %s\" % (best_val_accuracy, best_hyperparams))   "
      ],
      "execution_count": 23,
      "outputs": [
        {
          "output_type": "stream",
          "text": [
            "Best validation accuracy: 0.90, best hyperparams: Hyperparams(learning_rate=0.001, reg=0.001, optim_name='RMSprop', scheduler_name='Multiplicative', anneal_epoch=5.0)\n"
          ],
          "name": "stdout"
        }
      ]
    },
    {
      "cell_type": "markdown",
      "metadata": {
        "colab_type": "text",
        "id": "LOmsR0uVgtgf"
      },
      "source": [
        "# Свободное упражнение - догоним и перегоним LeNet!\n",
        "\n",
        "Попробуйте найти архитектуру и настройки тренировки, чтобы выступить лучше наших бейзлайнов.\n",
        "\n",
        "Что можно и нужно попробовать:\n",
        "- BatchNormalization (для convolution layers он в PyTorch называется [batchnorm2d](https://pytorch.org/docs/stable/nn.html#batchnorm2d))\n",
        "- Изменить количество слоев и их толщину\n",
        "- Изменять количество эпох тренировки\n",
        "- Попробовать и другие агментации"
      ]
    },
    {
      "cell_type": "code",
      "metadata": {
        "colab_type": "code",
        "id": "tSVhD747icoc",
        "colab": {
          "base_uri": "https://localhost:8080/",
          "height": 1000
        },
        "outputId": "4d939384-f2b5-4a43-d427-6a6c48e91973"
      },
      "source": [
        "run_record = {}\n",
        "Hyperparams = namedtuple(\"Hyperparams\", ['learning_rate', 'reg'])\n",
        "RunResult = namedtuple(\"RunResult\", ['model', 'train_history', 'val_history', 'final_val_accuracy'])\n",
        "\n",
        "learning_rates = [1e-3, 1e-4]\n",
        "regs = [1e-3, 1e-4, 1e-5]\n",
        "\n",
        "anneal_coeff, anneal_epoch = 0.2, 5\n",
        "lmbda = lambda epoch: anneal_coeff\n",
        "\n",
        "for lr in learning_rates:\n",
        "  for reg in regs:\n",
        "    nn_model = nn.Sequential(\n",
        "      nn.Conv2d(3, 8, 5), nn.ReLU(),\n",
        "      nn.MaxPool2d(2),\n",
        "      nn.Conv2d(8, 32, 5), nn.ReLU(),\n",
        "      nn.MaxPool2d(2),\n",
        "      nn.Conv2d(32, 140, 5), nn.ReLU(),\n",
        "      Flattener(),\n",
        "      nn.Linear(140, 84), nn.ReLU(),\n",
        "      nn.Linear(84, 10),\n",
        "    )\n",
        "    optimizer = optim.RMSprop(nn_model.parameters(), lr=lr, weight_decay=reg, momentum=0.9)\n",
        "    scheduler = optim.lr_scheduler.MultiplicativeLR(optimizer, lr_lambda=lmbda)\n",
        "    nn_model.cuda()\n",
        "    loss_history, train_history, val_history = train_model(nn_model, train_aug_loader, val_loader, loss,\n",
        "                                                            optimizer, 10, scheduler, anneal_epoch)\n",
        "    key = Hyperparams(lr, reg)\n",
        "    value = RunResult(nn_model, train_history, val_history, val_history[-1])\n",
        "    run_record[key] = value\n",
        "    with open('run_record_nn1.pickle', 'wb') as handle:\n",
        "      pickle.dump(run_record, handle, protocol=pickle.HIGHEST_PROTOCOL)"
      ],
      "execution_count": 22,
      "outputs": [
        {
          "output_type": "stream",
          "text": [
            "Average loss: 2.092212, Train accuracy: 0.256168, Val accuracy: 0.713467\n",
            "Average loss: 0.871440, Train accuracy: 0.737484, Val accuracy: 0.769094\n",
            "Average loss: 0.573244, Train accuracy: 0.830000, Val accuracy: 0.853935\n",
            "Average loss: 0.495232, Train accuracy: 0.849811, Val accuracy: 0.866767\n",
            "Average loss: 0.455822, Train accuracy: 0.861669, Val accuracy: 0.862876\n",
            "Average loss: 0.437077, Train accuracy: 0.868034, Val accuracy: 0.881646\n",
            "Average loss: 0.362837, Train accuracy: 0.888817, Val accuracy: 0.891816\n",
            "Average loss: 0.344457, Train accuracy: 0.896052, Val accuracy: 0.891407\n",
            "Average loss: 0.333866, Train accuracy: 0.898696, Val accuracy: 0.896389\n",
            "Average loss: 0.325352, Train accuracy: 0.901921, Val accuracy: 0.898846\n",
            "Average loss: 1.864888, Train accuracy: 0.352455, Val accuracy: 0.679954\n",
            "Average loss: 0.888967, Train accuracy: 0.739003, Val accuracy: 0.806976\n",
            "Average loss: 0.526351, Train accuracy: 0.845408, Val accuracy: 0.860897\n",
            "Average loss: 0.446926, Train accuracy: 0.867215, Val accuracy: 0.871954\n",
            "Average loss: 0.401907, Train accuracy: 0.879244, Val accuracy: 0.880691\n",
            "Average loss: 0.374146, Train accuracy: 0.887486, Val accuracy: 0.886219\n",
            "Average loss: 0.296353, Train accuracy: 0.911204, Val accuracy: 0.898300\n",
            "Average loss: 0.277513, Train accuracy: 0.917125, Val accuracy: 0.900075\n",
            "Average loss: 0.261942, Train accuracy: 0.922209, Val accuracy: 0.900143\n",
            "Average loss: 0.253322, Train accuracy: 0.923250, Val accuracy: 0.902942\n",
            "Average loss: 2.240511, Train accuracy: 0.193069, Val accuracy: 0.274384\n",
            "Average loss: 1.130681, Train accuracy: 0.649899, Val accuracy: 0.744181\n",
            "Average loss: 0.630385, Train accuracy: 0.812306, Val accuracy: 0.832025\n",
            "Average loss: 0.550670, Train accuracy: 0.832986, Val accuracy: 0.846495\n",
            "Average loss: 0.500917, Train accuracy: 0.848582, Val accuracy: 0.850386\n",
            "Average loss: 0.461315, Train accuracy: 0.858991, Val accuracy: 0.856256\n",
            "Average loss: 0.390811, Train accuracy: 0.880268, Val accuracy: 0.868883\n",
            "Average loss: 0.370253, Train accuracy: 0.886547, Val accuracy: 0.873456\n",
            "Average loss: 0.357534, Train accuracy: 0.890506, Val accuracy: 0.873387\n",
            "Average loss: 0.346561, Train accuracy: 0.893782, Val accuracy: 0.875572\n",
            "Average loss: 1.044833, Train accuracy: 0.659216, Val accuracy: 0.831957\n",
            "Average loss: 0.513373, Train accuracy: 0.848428, Val accuracy: 0.880145\n",
            "Average loss: 0.389395, Train accuracy: 0.885455, Val accuracy: 0.892431\n",
            "Average loss: 0.361627, Train accuracy: 0.893782, Val accuracy: 0.895092\n",
            "Average loss: 0.346802, Train accuracy: 0.897792, Val accuracy: 0.897823\n",
            "Average loss: 0.332261, Train accuracy: 0.903201, Val accuracy: 0.902874\n",
            "Average loss: 0.305874, Train accuracy: 0.910504, Val accuracy: 0.905194\n",
            "Average loss: 0.300483, Train accuracy: 0.912125, Val accuracy: 0.905194\n",
            "Average loss: 0.296995, Train accuracy: 0.913149, Val accuracy: 0.906969\n",
            "Average loss: 0.293389, Train accuracy: 0.915316, Val accuracy: 0.906696\n",
            "Average loss: 0.831886, Train accuracy: 0.742347, Val accuracy: 0.855710\n",
            "Average loss: 0.477472, Train accuracy: 0.858445, Val accuracy: 0.875435\n",
            "Average loss: 0.365373, Train accuracy: 0.891189, Val accuracy: 0.895434\n",
            "Average loss: 0.338329, Train accuracy: 0.899396, Val accuracy: 0.899870\n",
            "Average loss: 0.319834, Train accuracy: 0.904413, Val accuracy: 0.902601\n",
            "Average loss: 0.303083, Train accuracy: 0.909787, Val accuracy: 0.901918\n",
            "Average loss: 0.279978, Train accuracy: 0.917398, Val accuracy: 0.907174\n",
            "Average loss: 0.275983, Train accuracy: 0.918302, Val accuracy: 0.908197\n",
            "Average loss: 0.271626, Train accuracy: 0.920469, Val accuracy: 0.909016\n",
            "Average loss: 0.270185, Train accuracy: 0.921117, Val accuracy: 0.909153\n",
            "Average loss: 1.051214, Train accuracy: 0.662424, Val accuracy: 0.838100\n",
            "Average loss: 0.546061, Train accuracy: 0.841023, Val accuracy: 0.867108\n",
            "Average loss: 0.426965, Train accuracy: 0.874552, Val accuracy: 0.884240\n",
            "Average loss: 0.401209, Train accuracy: 0.881736, Val accuracy: 0.890519\n",
            "Average loss: 0.381166, Train accuracy: 0.887571, Val accuracy: 0.890861\n",
            "Average loss: 0.361187, Train accuracy: 0.894021, Val accuracy: 0.894819\n",
            "Average loss: 0.336433, Train accuracy: 0.900607, Val accuracy: 0.898027\n",
            "Average loss: 0.332470, Train accuracy: 0.901819, Val accuracy: 0.900143\n",
            "Average loss: 0.327772, Train accuracy: 0.904293, Val accuracy: 0.898915\n",
            "Average loss: 0.325168, Train accuracy: 0.904839, Val accuracy: 0.900689\n"
          ],
          "name": "stdout"
        }
      ]
    },
    {
      "cell_type": "code",
      "metadata": {
        "id": "ofcR31NeOgLX",
        "colab_type": "code",
        "colab": {
          "base_uri": "https://localhost:8080/",
          "height": 1000
        },
        "outputId": "d725ec2c-b814-4205-887b-33ebf8e0951a"
      },
      "source": [
        "run_record = {}\n",
        "Hyperparams = namedtuple(\"Hyperparams\", ['learning_rate', 'reg'])\n",
        "RunResult = namedtuple(\"RunResult\", ['model', 'train_history', 'val_history', 'final_val_accuracy'])\n",
        "\n",
        "learning_rates = [1e-2, 1e-3, 1e-4]\n",
        "regs = [1e-3, 1e-4, 1e-5]\n",
        "\n",
        "anneal_coeff, anneal_epoch = 0.2, 5\n",
        "lmbda = lambda epoch: anneal_coeff\n",
        "\n",
        "for lr in learning_rates:\n",
        "  for reg in regs:\n",
        "    nn_model = nn.Sequential(\n",
        "      nn.Conv2d(3, 8, 5), nn.ReLU(), nn.BatchNorm2d(8),\n",
        "      nn.AvgPool2d(2),\n",
        "      nn.Conv2d(8, 16, 5), nn.ReLU(), nn.BatchNorm2d(16),\n",
        "      nn.AvgPool2d(2),\n",
        "      nn.Conv2d(16, 64, 5), nn.ReLU(), nn.BatchNorm2d(64),\n",
        "      Flattener(),\n",
        "      nn.Linear(64, 84), nn.ReLU(),\n",
        "      nn.Linear(84, 10)\n",
        "      )\n",
        "    optimizer = optim.RMSprop(nn_model.parameters(), lr=lr, weight_decay=reg, momentum=0.9)\n",
        "    scheduler = optim.lr_scheduler.MultiplicativeLR(optimizer, lr_lambda=lmbda)\n",
        "    nn_model.cuda()\n",
        "    loss_history, train_history, val_history = train_model(nn_model, train_aug_loader, val_loader, loss,\n",
        "                                                            optimizer, 10, scheduler, anneal_epoch)\n",
        "    key = Hyperparams(lr, reg)\n",
        "    value = RunResult(nn_model, train_history, val_history, val_history[-1])\n",
        "    run_record[key] = value\n",
        "    with open('run_record_nn2.pickle', 'wb') as handle:\n",
        "      pickle.dump(run_record, handle, protocol=pickle.HIGHEST_PROTOCOL)"
      ],
      "execution_count": 34,
      "outputs": [
        {
          "output_type": "stream",
          "text": [
            "Average loss: 2.312721, Train accuracy: 0.181432, Val accuracy: 0.138762\n",
            "Average loss: 2.268779, Train accuracy: 0.182558, Val accuracy: 0.188793\n",
            "Average loss: 1.512509, Train accuracy: 0.473467, Val accuracy: 0.732783\n",
            "Average loss: 0.740361, Train accuracy: 0.765894, Val accuracy: 0.781380\n",
            "Average loss: 0.706094, Train accuracy: 0.779511, Val accuracy: 0.780834\n",
            "Average loss: 0.701733, Train accuracy: 0.780859, Val accuracy: 0.773667\n",
            "Average loss: 0.535237, Train accuracy: 0.834778, Val accuracy: 0.860556\n",
            "Average loss: 0.515560, Train accuracy: 0.839641, Val accuracy: 0.852979\n",
            "Average loss: 0.510839, Train accuracy: 0.841757, Val accuracy: 0.859805\n",
            "Average loss: 0.509642, Train accuracy: 0.842473, Val accuracy: 0.860556\n",
            "Average loss: 2.301782, Train accuracy: 0.181312, Val accuracy: 0.184493\n",
            "Average loss: 2.283707, Train accuracy: 0.180135, Val accuracy: 0.150297\n",
            "Average loss: 1.609521, Train accuracy: 0.434734, Val accuracy: 0.793802\n",
            "Average loss: 0.633553, Train accuracy: 0.802989, Val accuracy: 0.823015\n",
            "Average loss: 0.586747, Train accuracy: 0.821349, Val accuracy: 0.841171\n",
            "Average loss: 0.573530, Train accuracy: 0.823482, Val accuracy: 0.843082\n",
            "Average loss: 0.433697, Train accuracy: 0.868580, Val accuracy: 0.883830\n",
            "Average loss: 0.397915, Train accuracy: 0.879210, Val accuracy: 0.889905\n",
            "Average loss: 0.382193, Train accuracy: 0.883766, Val accuracy: 0.887789\n",
            "Average loss: 0.372474, Train accuracy: 0.885046, Val accuracy: 0.892226\n",
            "Average loss: 2.330179, Train accuracy: 0.183480, Val accuracy: 0.080472\n",
            "Average loss: 2.430774, Train accuracy: 0.180732, Val accuracy: 0.188793\n",
            "Average loss: 2.240991, Train accuracy: 0.189127, Val accuracy: 0.188451\n",
            "Average loss: 2.244034, Train accuracy: 0.187302, Val accuracy: 0.188793\n",
            "Average loss: 2.243732, Train accuracy: 0.187575, Val accuracy: 0.188042\n",
            "Average loss: 2.243874, Train accuracy: 0.187541, Val accuracy: 0.188793\n",
            "Average loss: 1.780410, Train accuracy: 0.372180, Val accuracy: 0.779264\n",
            "Average loss: 0.618186, Train accuracy: 0.805805, Val accuracy: 0.853798\n",
            "Average loss: 0.478257, Train accuracy: 0.852490, Val accuracy: 0.879189\n",
            "Average loss: 0.427535, Train accuracy: 0.866737, Val accuracy: 0.884445\n",
            "Average loss: 0.902833, Train accuracy: 0.703989, Val accuracy: 0.820900\n",
            "Average loss: 0.603779, Train accuracy: 0.813091, Val accuracy: 0.834278\n",
            "Average loss: 0.454142, Train accuracy: 0.860953, Val accuracy: 0.882943\n",
            "Average loss: 0.418529, Train accuracy: 0.871805, Val accuracy: 0.887107\n",
            "Average loss: 0.407319, Train accuracy: 0.876395, Val accuracy: 0.889632\n",
            "Average loss: 0.398006, Train accuracy: 0.878118, Val accuracy: 0.885878\n",
            "Average loss: 0.343577, Train accuracy: 0.896581, Val accuracy: 0.900826\n",
            "Average loss: 0.329973, Train accuracy: 0.899737, Val accuracy: 0.902191\n",
            "Average loss: 0.323831, Train accuracy: 0.901341, Val accuracy: 0.903010\n",
            "Average loss: 0.317035, Train accuracy: 0.904208, Val accuracy: 0.903351\n",
            "Average loss: 0.897832, Train accuracy: 0.708784, Val accuracy: 0.847655\n",
            "Average loss: 0.534922, Train accuracy: 0.835034, Val accuracy: 0.861511\n",
            "Average loss: 0.388019, Train accuracy: 0.879586, Val accuracy: 0.894342\n",
            "Average loss: 0.351000, Train accuracy: 0.892059, Val accuracy: 0.898369\n",
            "Average loss: 0.330935, Train accuracy: 0.898253, Val accuracy: 0.902601\n",
            "Average loss: 0.318020, Train accuracy: 0.902501, Val accuracy: 0.902874\n",
            "Average loss: 0.280040, Train accuracy: 0.914753, Val accuracy: 0.908197\n",
            "Average loss: 0.272160, Train accuracy: 0.918012, Val accuracy: 0.909289\n",
            "Average loss: 0.264346, Train accuracy: 0.920059, Val accuracy: 0.909153\n",
            "Average loss: 0.260557, Train accuracy: 0.920196, Val accuracy: 0.910177\n",
            "Average loss: 0.819192, Train accuracy: 0.737348, Val accuracy: 0.856051\n",
            "Average loss: 0.520668, Train accuracy: 0.841620, Val accuracy: 0.870111\n",
            "Average loss: 0.387245, Train accuracy: 0.882282, Val accuracy: 0.893045\n",
            "Average loss: 0.351897, Train accuracy: 0.891581, Val accuracy: 0.898710\n",
            "Average loss: 0.334861, Train accuracy: 0.896581, Val accuracy: 0.897823\n",
            "Average loss: 0.319748, Train accuracy: 0.901665, Val accuracy: 0.900007\n",
            "Average loss: 0.287269, Train accuracy: 0.912159, Val accuracy: 0.904785\n",
            "Average loss: 0.281001, Train accuracy: 0.913763, Val accuracy: 0.906355\n",
            "Average loss: 0.279310, Train accuracy: 0.914309, Val accuracy: 0.906628\n",
            "Average loss: 0.273888, Train accuracy: 0.915435, Val accuracy: 0.906764\n",
            "Average loss: 0.755644, Train accuracy: 0.762448, Val accuracy: 0.856665\n",
            "Average loss: 0.458461, Train accuracy: 0.859110, Val accuracy: 0.879667\n",
            "Average loss: 0.368403, Train accuracy: 0.887605, Val accuracy: 0.898164\n",
            "Average loss: 0.344609, Train accuracy: 0.897058, Val accuracy: 0.899188\n",
            "Average loss: 0.335384, Train accuracy: 0.899686, Val accuracy: 0.901781\n",
            "Average loss: 0.321606, Train accuracy: 0.902962, Val accuracy: 0.902532\n",
            "Average loss: 0.304920, Train accuracy: 0.908832, Val accuracy: 0.904443\n",
            "Average loss: 0.299434, Train accuracy: 0.911357, Val accuracy: 0.904716\n",
            "Average loss: 0.296212, Train accuracy: 0.911562, Val accuracy: 0.905535\n",
            "Average loss: 0.296692, Train accuracy: 0.911869, Val accuracy: 0.904512\n",
            "Average loss: 0.767824, Train accuracy: 0.756032, Val accuracy: 0.864173\n",
            "Average loss: 0.465752, Train accuracy: 0.857694, Val accuracy: 0.881442\n",
            "Average loss: 0.374092, Train accuracy: 0.887605, Val accuracy: 0.894819\n",
            "Average loss: 0.352516, Train accuracy: 0.892383, Val accuracy: 0.897618\n",
            "Average loss: 0.339046, Train accuracy: 0.897041, Val accuracy: 0.898846\n",
            "Average loss: 0.327616, Train accuracy: 0.899976, Val accuracy: 0.901167\n",
            "Average loss: 0.310946, Train accuracy: 0.905402, Val accuracy: 0.901645\n",
            "Average loss: 0.308777, Train accuracy: 0.907330, Val accuracy: 0.902669\n",
            "Average loss: 0.303132, Train accuracy: 0.909600, Val accuracy: 0.902669\n",
            "Average loss: 0.301393, Train accuracy: 0.908678, Val accuracy: 0.903966\n",
            "Average loss: 0.732133, Train accuracy: 0.769256, Val accuracy: 0.863081\n",
            "Average loss: 0.453972, Train accuracy: 0.859383, Val accuracy: 0.883489\n",
            "Average loss: 0.364569, Train accuracy: 0.888714, Val accuracy: 0.896389\n",
            "Average loss: 0.345376, Train accuracy: 0.894414, Val accuracy: 0.897823\n",
            "Average loss: 0.334007, Train accuracy: 0.899089, Val accuracy: 0.899120\n",
            "Average loss: 0.322083, Train accuracy: 0.903389, Val accuracy: 0.903010\n",
            "Average loss: 0.304955, Train accuracy: 0.907450, Val accuracy: 0.904034\n",
            "Average loss: 0.301798, Train accuracy: 0.908081, Val accuracy: 0.903351\n",
            "Average loss: 0.297944, Train accuracy: 0.910163, Val accuracy: 0.904239\n",
            "Average loss: 0.296284, Train accuracy: 0.910845, Val accuracy: 0.904170\n"
          ],
          "name": "stdout"
        }
      ]
    },
    {
      "cell_type": "code",
      "metadata": {
        "id": "CJUL2l69omEg",
        "colab_type": "code",
        "colab": {
          "base_uri": "https://localhost:8080/",
          "height": 51
        },
        "outputId": "f413cc8b-0f8a-44c5-e93a-d7b3f4c28380"
      },
      "source": [
        "# Colab failed to run the loop from above at once\n",
        "# Saves results to disk and concat it now\n",
        "Hyperparams = namedtuple(\"Hyperparams\", ['learning_rate', 'reg'])\n",
        "RunResult = namedtuple(\"RunResult\", ['model', 'train_history', 'val_history', 'final_val_accuracy'])\n",
        "\n",
        "run_record = {}\n",
        "with open('run_record_nn1.pickle', 'rb') as f:\n",
        "  run_record1 = pickle.load(f)\n",
        "with open('run_record_nn2.pickle', 'rb') as f:\n",
        "  run_record2 = pickle.load(f)\n",
        "\n",
        "\n",
        "def find_best(run_record, name):\n",
        "  best_val_accuracy = None\n",
        "  best_hyperparams = None\n",
        "  best_run = None\n",
        "\n",
        "  for hyperparams, run_result in run_record.items():\n",
        "      if best_val_accuracy is None or best_val_accuracy < run_result.final_val_accuracy:\n",
        "          best_val_accuracy = run_result.final_val_accuracy\n",
        "          best_hyperparams = hyperparams\n",
        "          best_run = run_result       \n",
        "  print(\"%s, Best validation accuracy: %4.3f, best hyperparams: %s\" % (name, best_val_accuracy, best_hyperparams))\n",
        "\n",
        "find_best(run_record1, 'nn1')\n",
        "find_best(run_record2, 'nn2')"
      ],
      "execution_count": 19,
      "outputs": [
        {
          "output_type": "stream",
          "text": [
            "nn1, Best validation accuracy: 0.909, best hyperparams: Hyperparams(learning_rate=0.0001, reg=0.0001)\n",
            "nn2, Best validation accuracy: 0.910, best hyperparams: Hyperparams(learning_rate=0.001, reg=0.0001)\n"
          ],
          "name": "stdout"
        }
      ]
    },
    {
      "cell_type": "markdown",
      "metadata": {
        "colab_type": "text",
        "id": "ubeKgBcnhx7N"
      },
      "source": [
        "# Финальный аккорд - проверим лучшую модель на test set\n",
        "\n",
        "В качестве разнообразия - напишите код для прогона модели на test set вы.\n",
        "\n",
        "В результате вы должны натренировать модель, которая покажет более **90%** точности на test set.  \n",
        "Как водится, лучший результат в группе получит дополнительные баллы!"
      ]
    },
    {
      "cell_type": "code",
      "metadata": {
        "colab_type": "code",
        "id": "EIqM1kdeh-hd",
        "colab": {
          "base_uri": "https://localhost:8080/",
          "height": 34
        },
        "outputId": "a770ae4e-889b-4db5-b777-7f73a07312d6"
      },
      "source": [
        "# TODO Write the code to compute accuracy on test set\n",
        "test_loader = torch.utils.data.DataLoader(data_test, batch_size=batch_size)\n",
        "# best_model = run_record2[Hyperparams(learning_rate=0.001, reg=0.0001)][0]\n",
        "best_model = run_record1[Hyperparams(learning_rate=0.0001, reg=0.0001)][0]\n",
        "\n",
        "best_model.eval()\n",
        "correct_samples, total_samples = 0, 0\n",
        "for i_step, (x, y) in enumerate(test_loader):\n",
        "  x_gpu = x.to(device)\n",
        "  y_gpu = y.to(device)\n",
        "  prediction = best_model(x_gpu)    \n",
        "\n",
        "  _, indices = torch.max(prediction, 1)\n",
        "  correct_samples += torch.sum(indices == y_gpu)\n",
        "  total_samples += y.shape[0]\n",
        "\n",
        "test_accuracy = float(correct_samples) / total_samples\n",
        "print(\"Final test accuracy - %4.2f%%\" % (test_accuracy*100))"
      ],
      "execution_count": 33,
      "outputs": [
        {
          "output_type": "stream",
          "text": [
            "Final test accuracy - 90.25%\n"
          ],
          "name": "stdout"
        }
      ]
    },
    {
      "cell_type": "code",
      "metadata": {
        "colab_type": "code",
        "id": "BfH6qip6kVX_",
        "colab": {}
      },
      "source": [
        ""
      ],
      "execution_count": null,
      "outputs": []
    }
  ]
}